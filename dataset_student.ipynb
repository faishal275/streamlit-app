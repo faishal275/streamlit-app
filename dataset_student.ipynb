{
  "cells": [
    {
      "cell_type": "code",
      "execution_count": 30,
      "metadata": {
        "id": "H-LIc_8qsSeo"
      },
      "outputs": [],
      "source": [
        "import pandas as pd\n",
        "import numpy as np\n",
        "import matplotlib.pyplot as plt\n",
        "import seaborn as sns\n",
        "from sklearn.model_selection import train_test_split\n",
        "from sklearn.ensemble import RandomForestClassifier\n",
        "from sklearn.metrics import classification_report, accuracy_score\n",
        "import pickle"
      ]
    },
    {
      "cell_type": "code",
      "execution_count": 29,
      "metadata": {
        "id": "UHxcDZXbsSep"
      },
      "outputs": [],
      "source": [
        "file_path = 'student_mental_health.csv'\n",
        "data = pd.read_csv(file_path)"
      ]
    },
    {
      "cell_type": "code",
      "execution_count": 28,
      "metadata": {
        "colab": {
          "base_uri": "https://localhost:8080/"
        },
        "id": "GFpWKvlFsSeq",
        "outputId": "2102bda3-f520-4348-9576-4c10fc4c0dc4"
      },
      "outputs": [
        {
          "name": "stdout",
          "output_type": "stream",
          "text": [
            "<class 'pandas.core.frame.DataFrame'>\n",
            "RangeIndex: 101 entries, 0 to 100\n",
            "Data columns (total 11 columns):\n",
            " #   Column                                        Non-Null Count  Dtype  \n",
            "---  ------                                        --------------  -----  \n",
            " 0   Timestamp                                     101 non-null    object \n",
            " 1   Choose your gender                            101 non-null    object \n",
            " 2   Age                                           101 non-null    float64\n",
            " 3   What is your course?                          101 non-null    object \n",
            " 4   Your current year of Study                    101 non-null    object \n",
            " 5   What is your CGPA?                            101 non-null    object \n",
            " 6   Marital status                                101 non-null    object \n",
            " 7   Do you have Depression?                       101 non-null    object \n",
            " 8   Do you have Anxiety?                          101 non-null    object \n",
            " 9   Do you have Panic attack?                     101 non-null    object \n",
            " 10  Did you seek any specialist for a treatment?  101 non-null    object \n",
            "dtypes: float64(1), object(10)\n",
            "memory usage: 8.8+ KB\n"
          ]
        }
      ],
      "source": [
        "data.info()"
      ]
    },
    {
      "cell_type": "code",
      "execution_count": 27,
      "metadata": {
        "colab": {
          "base_uri": "https://localhost:8080/",
          "height": 300
        },
        "id": "zF0T6q9AsSeq",
        "outputId": "1efd166c-9cc6-4501-9a16-c6d9a64b7ebe"
      },
      "outputs": [
        {
          "data": {
            "text/html": [
              "<div>\n",
              "<style scoped>\n",
              "    .dataframe tbody tr th:only-of-type {\n",
              "        vertical-align: middle;\n",
              "    }\n",
              "\n",
              "    .dataframe tbody tr th {\n",
              "        vertical-align: top;\n",
              "    }\n",
              "\n",
              "    .dataframe thead th {\n",
              "        text-align: right;\n",
              "    }\n",
              "</style>\n",
              "<table border=\"1\" class=\"dataframe\">\n",
              "  <thead>\n",
              "    <tr style=\"text-align: right;\">\n",
              "      <th></th>\n",
              "      <th>Age</th>\n",
              "    </tr>\n",
              "  </thead>\n",
              "  <tbody>\n",
              "    <tr>\n",
              "      <th>count</th>\n",
              "      <td>101.000000</td>\n",
              "    </tr>\n",
              "    <tr>\n",
              "      <th>mean</th>\n",
              "      <td>20.530000</td>\n",
              "    </tr>\n",
              "    <tr>\n",
              "      <th>std</th>\n",
              "      <td>2.483767</td>\n",
              "    </tr>\n",
              "    <tr>\n",
              "      <th>min</th>\n",
              "      <td>18.000000</td>\n",
              "    </tr>\n",
              "    <tr>\n",
              "      <th>25%</th>\n",
              "      <td>18.000000</td>\n",
              "    </tr>\n",
              "    <tr>\n",
              "      <th>50%</th>\n",
              "      <td>19.000000</td>\n",
              "    </tr>\n",
              "    <tr>\n",
              "      <th>75%</th>\n",
              "      <td>23.000000</td>\n",
              "    </tr>\n",
              "    <tr>\n",
              "      <th>max</th>\n",
              "      <td>24.000000</td>\n",
              "    </tr>\n",
              "  </tbody>\n",
              "</table>\n",
              "</div>"
            ],
            "text/plain": [
              "              Age\n",
              "count  101.000000\n",
              "mean    20.530000\n",
              "std      2.483767\n",
              "min     18.000000\n",
              "25%     18.000000\n",
              "50%     19.000000\n",
              "75%     23.000000\n",
              "max     24.000000"
            ]
          },
          "execution_count": 27,
          "metadata": {},
          "output_type": "execute_result"
        }
      ],
      "source": [
        "data.describe()"
      ]
    },
    {
      "cell_type": "code",
      "execution_count": 25,
      "metadata": {
        "colab": {
          "base_uri": "https://localhost:8080/"
        },
        "id": "F0izlZEFsSeq",
        "outputId": "a197ec68-cefa-448f-eb74-dc774d288053"
      },
      "outputs": [
        {
          "name": "stdout",
          "output_type": "stream",
          "text": [
            "Kolom numerik: Index(['Age'], dtype='object')\n"
          ]
        }
      ],
      "source": [
        "numerical_columns = data.select_dtypes(include=['number']).columns\n",
        "\n",
        "print(\"Kolom numerik:\", numerical_columns)"
      ]
    },
    {
      "cell_type": "code",
      "execution_count": null,
      "metadata": {
        "colab": {
          "base_uri": "https://localhost:8080/"
        },
        "id": "857S6dwrsSeq",
        "outputId": "0c4e44d9-7286-4673-ee81-558786476cbf"
      },
      "outputs": [
        {
          "name": "stderr",
          "output_type": "stream",
          "text": [
            "C:\\Users\\Lenovo\\AppData\\Local\\Temp\\ipykernel_15724\\2881977129.py:2: FutureWarning: A value is trying to be set on a copy of a DataFrame or Series through chained assignment using an inplace method.\n",
            "The behavior will change in pandas 3.0. This inplace method will never work because the intermediate object on which we are setting values always behaves as a copy.\n",
            "\n",
            "For example, when doing 'df[col].method(value, inplace=True)', try using 'df.method({col: value}, inplace=True)' or df[col] = df[col].method(value) instead, to perform the operation inplace on the original object.\n",
            "\n",
            "\n",
            "  data['Age'].fillna(data['Age'].mean(), inplace=True)\n"
          ]
        }
      ],
      "source": [
        "# Data Cleaning: Isi nilai yang hilang di Usia\n",
        "data['Age'].fillna(data['Age'].mean(), inplace=True)\n"
      ]
    },
    {
      "cell_type": "code",
      "execution_count": 22,
      "metadata": {
        "id": "-8ZnHj_NsSer"
      },
      "outputs": [],
      "source": [
        "# Encode categorical variables\n",
        "encoded_data = pd.get_dummies(data, drop_first=True)"
      ]
    },
    {
      "cell_type": "code",
      "execution_count": 9,
      "metadata": {
        "id": "OjSBIO5TsSer"
      },
      "outputs": [],
      "source": [
        "# Target variable: 'Do you have Depression?'\n",
        "y = data['Do you have Depression?'].map({'Yes': 1, 'No': 0})\n",
        "X = encoded_data.drop(columns=['Do you have Depression?_Yes'])"
      ]
    },
    {
      "cell_type": "code",
      "execution_count": 10,
      "metadata": {
        "colab": {
          "base_uri": "https://localhost:8080/"
        },
        "id": "2h61AddBsSer",
        "outputId": "50d1015a-d1c1-4f12-bd09-27ddd41d1d4a"
      },
      "outputs": [
        {
          "name": "stdout",
          "output_type": "stream",
          "text": [
            "Accuracy (No Data Preparation): 0.7619047619047619\n",
            "\n",
            "Classification Report:\n",
            "               precision    recall  f1-score   support\n",
            "\n",
            "           0       0.72      1.00      0.84        13\n",
            "           1       1.00      0.38      0.55         8\n",
            "\n",
            "    accuracy                           0.76        21\n",
            "   macro avg       0.86      0.69      0.69        21\n",
            "weighted avg       0.83      0.76      0.73        21\n",
            "\n"
          ]
        }
      ],
      "source": [
        "# Pisahkan data menjadi set pelatihan dan pengujian\n",
        "X_train, X_test, y_train, y_test = train_test_split(X, y, test_size=0.2, random_state=42)\n",
        "\n",
        "# Model 1: Random Forest tanpa persiapan data\n",
        "rf_model = RandomForestClassifier(random_state=42)\n",
        "rf_model.fit(X_train, y_train)\n",
        "\n",
        "# Prediksi dan evaluasi\n",
        "rf_pred = rf_model.predict(X_test)\n",
        "print(\"Accuracy (No Data Preparation):\", accuracy_score(y_test, rf_pred))\n",
        "print(\"\\nClassification Report:\\n\", classification_report(y_test, rf_pred))"
      ]
    },
    {
      "cell_type": "code",
      "execution_count": 23,
      "metadata": {
        "id": "pFMPJWAtsSer"
      },
      "outputs": [],
      "source": [
        "# Simpan modelnya\n",
        "with open('rf_model_no_prep.pkl', 'wb') as f:\n",
        "    pickle.dump(rf_model, f)"
      ]
    },
    {
      "cell_type": "code",
      "execution_count": 12,
      "metadata": {
        "colab": {
          "base_uri": "https://localhost:8080/"
        },
        "id": "k3dutCExsSer",
        "outputId": "daba6a4c-3db6-4d74-e0d4-75d7fba963dd"
      },
      "outputs": [
        {
          "name": "stdout",
          "output_type": "stream",
          "text": [
            "Accuracy (With Data Preparation): 0.7619047619047619\n",
            "\n",
            "Classification Report:\n",
            "               precision    recall  f1-score   support\n",
            "\n",
            "           0       0.72      1.00      0.84        13\n",
            "           1       1.00      0.38      0.55         8\n",
            "\n",
            "    accuracy                           0.76        21\n",
            "   macro avg       0.86      0.69      0.69        21\n",
            "weighted avg       0.83      0.76      0.73        21\n",
            "\n"
          ]
        }
      ],
      "source": [
        "# Model 2: Random Forest dengan data preparation (Scaling and Normalization)\n",
        "from sklearn.preprocessing import StandardScaler\n",
        "\n",
        "scaler = StandardScaler()\n",
        "X_train_scaled = scaler.fit_transform(X_train)\n",
        "X_test_scaled = scaler.transform(X_test)\n",
        "\n",
        "rf_model_scaled = RandomForestClassifier(random_state=42)\n",
        "rf_model_scaled.fit(X_train_scaled, y_train)\n",
        "\n",
        "# Prediksi dan evaluasi\n",
        "rf_pred_scaled = rf_model_scaled.predict(X_test_scaled)\n",
        "print(\"Accuracy (With Data Preparation):\", accuracy_score(y_test, rf_pred_scaled))\n",
        "print(\"\\nClassification Report:\\n\", classification_report(y_test, rf_pred_scaled))"
      ]
    },
    {
      "cell_type": "code",
      "execution_count": 13,
      "metadata": {
        "id": "P4ppiQwxsSer"
      },
      "outputs": [],
      "source": [
        "# Simpan model terbaik (anggap model berskala lebih baik)\n",
        "with open('rf_model_scaled.pkl', 'wb') as f:\n",
        "    pickle.dump(rf_model_scaled, f)"
      ]
    },
    {
      "cell_type": "code",
      "execution_count": 14,
      "metadata": {
        "colab": {
          "base_uri": "https://localhost:8080/"
        },
        "id": "815d2a1f",
        "outputId": "391b3889-7660-4499-809d-d25abc3e6823"
      },
      "outputs": [
        {
          "name": "stdout",
          "output_type": "stream",
          "text": [
            "Missing Values:\n",
            "Timestamp                                       0\n",
            "Choose your gender                              0\n",
            "Age                                             0\n",
            "What is your course?                            0\n",
            "Your current year of Study                      0\n",
            "What is your CGPA?                              0\n",
            "Marital status                                  0\n",
            "Do you have Depression?                         0\n",
            "Do you have Anxiety?                            0\n",
            "Do you have Panic attack?                       0\n",
            "Did you seek any specialist for a treatment?    0\n",
            "dtype: int64\n",
            "Data after preparation:\n",
            "    Age  Timestamp_13/07/2020 10:10:30  Timestamp_13/07/2020 10:11:26  \\\n",
            "0  18.0                          False                          False   \n",
            "1  21.0                          False                          False   \n",
            "2  19.0                          False                          False   \n",
            "3  22.0                          False                          False   \n",
            "4  23.0                          False                          False   \n",
            "\n",
            "   Timestamp_13/07/2020 10:12:18  Timestamp_13/07/2020 10:12:26  \\\n",
            "0                          False                          False   \n",
            "1                          False                          False   \n",
            "2                          False                          False   \n",
            "3                          False                          False   \n",
            "4                          False                          False   \n",
            "\n",
            "   Timestamp_13/07/2020 10:12:28  Timestamp_13/07/2020 10:14:46  \\\n",
            "0                          False                          False   \n",
            "1                          False                          False   \n",
            "2                          False                          False   \n",
            "3                          False                          False   \n",
            "4                          False                          False   \n",
            "\n",
            "   Timestamp_13/07/2020 10:33:47  Timestamp_13/07/2020 10:34:08  \\\n",
            "0                          False                          False   \n",
            "1                          False                          False   \n",
            "2                          False                          False   \n",
            "3                          False                          False   \n",
            "4                          False                          False   \n",
            "\n",
            "   Timestamp_13/07/2020 11:46:13  ...  What is your CGPA?_2.00 - 2.49  \\\n",
            "0                          False  ...                           False   \n",
            "1                          False  ...                           False   \n",
            "2                          False  ...                           False   \n",
            "3                          False  ...                           False   \n",
            "4                          False  ...                           False   \n",
            "\n",
            "   What is your CGPA?_2.50 - 2.99  What is your CGPA?_3.00 - 3.49  \\\n",
            "0                           False                            True   \n",
            "1                           False                            True   \n",
            "2                           False                            True   \n",
            "3                           False                            True   \n",
            "4                           False                            True   \n",
            "\n",
            "   What is your CGPA?_3.50 - 4.00  What is your CGPA?_3.50 - 4.00   \\\n",
            "0                           False                            False   \n",
            "1                           False                            False   \n",
            "2                           False                            False   \n",
            "3                           False                            False   \n",
            "4                           False                            False   \n",
            "\n",
            "   Marital status_Yes  Do you have Depression?_Yes  Do you have Anxiety?_Yes  \\\n",
            "0               False                         True                     False   \n",
            "1               False                        False                      True   \n",
            "2               False                         True                      True   \n",
            "3                True                         True                     False   \n",
            "4               False                        False                     False   \n",
            "\n",
            "   Do you have Panic attack?_Yes  \\\n",
            "0                           True   \n",
            "1                          False   \n",
            "2                           True   \n",
            "3                          False   \n",
            "4                          False   \n",
            "\n",
            "   Did you seek any specialist for a treatment?_Yes  \n",
            "0                                             False  \n",
            "1                                             False  \n",
            "2                                             False  \n",
            "3                                             False  \n",
            "4                                             False  \n",
            "\n",
            "[5 rows x 157 columns]\n"
          ]
        }
      ],
      "source": [
        "# Data Preparation\n",
        "# Tampilan missing values\n",
        "print(\"Missing Values:\")\n",
        "print(data.isnull().sum())\n",
        "\n",
        "# Isi nilai yang hilang atau hapus baris dengan nilai yang hilang (ubah seperlunya)data = data.dropna()\n",
        "\n",
        "# Pengkodean variabel kategori jika diperlukan\n",
        "categorical_columns = data.select_dtypes(include=['object']).columns\n",
        "data = pd.get_dummies(data, columns=categorical_columns, drop_first=True)\n",
        "\n",
        "# Tampilan prepared data\n",
        "print(\"Data after preparation:\")\n",
        "print(data.head())\n"
      ]
    },
    {
      "cell_type": "code",
      "execution_count": 15,
      "metadata": {
        "colab": {
          "base_uri": "https://localhost:8080/",
          "height": 410
        },
        "id": "2e96e7d1",
        "outputId": "99bdc2c0-6f7a-44d4-bfbf-d084128bfbd9"
      },
      "outputs": [
        {
          "data": {
            "image/png": "[encoded data removed]",
            "text/plain": [
              "<Figure size 800x400 with 1 Axes>"
            ]
          },
          "metadata": {},
          "output_type": "display_data"
        }
      ],
      "source": [
        "# Histogram untuk setiap fitur numerik\n",
        "numerical_columns = data.select_dtypes(include=['int64', 'float64']).columns\n",
        "\n",
        "for column in numerical_columns:\n",
        "    plt.figure(figsize=(8, 4))\n",
        "    sns.histplot(data[column], kde=True, bins=20, color='blue')\n",
        "    plt.title(f\"Histogram of {column}\")\n",
        "    plt.xlabel(column)\n",
        "    plt.ylabel(\"Frequency\")\n",
        "    plt.show()\n"
      ]
    },
    {
      "cell_type": "code",
      "execution_count": 16,
      "metadata": {
        "colab": {
          "base_uri": "https://localhost:8080/"
        },
        "id": "0932d7e5",
        "outputId": "e503704c-4d64-4214-cc4b-6b4b7512aeb1"
      },
      "outputs": [
        {
          "name": "stdout",
          "output_type": "stream",
          "text": [
            "Classification Report:\n",
            "              precision    recall  f1-score   support\n",
            "\n",
            "       False       0.90      1.00      0.95        19\n",
            "        True       0.00      0.00      0.00         2\n",
            "\n",
            "    accuracy                           0.90        21\n",
            "   macro avg       0.45      0.50      0.47        21\n",
            "weighted avg       0.82      0.90      0.86        21\n",
            "\n",
            "Accuracy: 0.9047619047619048\n"
          ]
        },
        {
          "name": "stderr",
          "output_type": "stream",
          "text": [
            "c:\\Users\\Lenovo\\AppData\\Local\\Programs\\Python\\Python312\\Lib\\site-packages\\sklearn\\metrics\\_classification.py:1565: UndefinedMetricWarning: Precision is ill-defined and being set to 0.0 in labels with no predicted samples. Use `zero_division` parameter to control this behavior.\n",
            "  _warn_prf(average, modifier, f\"{metric.capitalize()} is\", len(result))\n",
            "c:\\Users\\Lenovo\\AppData\\Local\\Programs\\Python\\Python312\\Lib\\site-packages\\sklearn\\metrics\\_classification.py:1565: UndefinedMetricWarning: Precision is ill-defined and being set to 0.0 in labels with no predicted samples. Use `zero_division` parameter to control this behavior.\n",
            "  _warn_prf(average, modifier, f\"{metric.capitalize()} is\", len(result))\n",
            "c:\\Users\\Lenovo\\AppData\\Local\\Programs\\Python\\Python312\\Lib\\site-packages\\sklearn\\metrics\\_classification.py:1565: UndefinedMetricWarning: Precision is ill-defined and being set to 0.0 in labels with no predicted samples. Use `zero_division` parameter to control this behavior.\n",
            "  _warn_prf(average, modifier, f\"{metric.capitalize()} is\", len(result))\n"
          ]
        }
      ],
      "source": [
        "# Klasifikasi menggunakan Random Forest\n",
        "# Dengan asumsi variabel target adalah kolom terakhir\n",
        "X = data.iloc[:, :-1]  # Features\n",
        "y = data.iloc[:, -1]   # Target\n",
        "\n",
        "# Train-test split\n",
        "X_train, X_test, y_train, y_test = train_test_split(X, y, test_size=0.2, random_state=42)\n",
        "\n",
        "# Train Random Forest Classifier\n",
        "clf = RandomForestClassifier(random_state=42)\n",
        "clf.fit(X_train, y_train)\n",
        "\n",
        "# Memprediksi on test data\n",
        "y_pred = clf.predict(X_test)\n",
        "\n",
        "# Evaluaasi model\n",
        "print(\"Classification Report:\")\n",
        "print(classification_report(y_test, y_pred))\n",
        "print(\"Accuracy:\", accuracy_score(y_test, y_pred))\n"
      ]
    },
    {
      "cell_type": "code",
      "execution_count": 17,
      "metadata": {
        "id": "5j4MJEHdt_fu"
      },
      "outputs": [],
      "source": [
        "import joblib"
      ]
    },
    {
      "cell_type": "code",
      "execution_count": 18,
      "metadata": {
        "colab": {
          "base_uri": "https://localhost:8080/"
        },
        "id": "mNMcherquY6f",
        "outputId": "6e4400e1-d64f-4b0b-cafd-0e2ed7ba32f0"
      },
      "outputs": [
        {
          "name": "stdout",
          "output_type": "stream",
          "text": [
            "Model tersimpan random_forest_model.joblib\n"
          ]
        }
      ],
      "source": [
        "from joblib import dump, load\n",
        "\n",
        "# Menyimpan model ke file .joblib\n",
        "dump(clf, \"random_forest_model.joblib\")\n",
        "print(\"Model tersimpan random_forest_model.joblib\")\n"
      ]
    }
  ],
  "metadata": {
    "colab": {
      "provenance": []
    },
    "kernelspec": {
      "display_name": "Python 3",
      "language": "python",
      "name": "python3"
    },
    "language_info": {
      "codemirror_mode": {
        "name": "ipython",
        "version": 3
      },
      "file_extension": ".py",
      "mimetype": "text/x-python",
      "name": "python",
      "nbconvert_exporter": "python",
      "pygments_lexer": "ipython3",
      "version": "3.12.3"
    }
  },
  "nbformat": 4,
  "nbformat_minor": 0
}
